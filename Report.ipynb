{
 "cells": [
  {
   "cell_type": "markdown",
   "metadata": {},
   "source": [
    "# Collaboration and Competition\n",
    "\n",
    "---\n",
    "\n",
    "In this notebook, you will learn how to use the Unity ML-Agents environment for the third project of the [Deep Reinforcement Learning Nanodegree](https://www.udacity.com/course/deep-reinforcement-learning-nanodegree--nd893) program.\n",
    "\n",
    "### Start the Environment\n",
    "\n",
    "We begin by importing the necessary packages.  If the code cell below returns an error, please revisit the project instructions to double-check that you have installed [Unity ML-Agents](https://github.com/Unity-Technologies/ml-agents/blob/master/docs/Installation.md) and [NumPy](http://www.numpy.org/)."
   ]
  },
  {
   "cell_type": "code",
   "execution_count": 1,
   "metadata": {
    "ExecuteTime": {
     "end_time": "2019-11-24T22:38:50.390166Z",
     "start_time": "2019-11-24T22:38:46.396401Z"
    }
   },
   "outputs": [],
   "source": [
    "# This magic code below is used to avoid the need to reimport files if they are edited externally.\n",
    "%load_ext autoreload\n",
    "%autoreload 2\n",
    "\n",
    "# Show plots on notebook\n",
    "%matplotlib inline"
   ]
  },
  {
   "cell_type": "code",
   "execution_count": 18,
   "metadata": {
    "ExecuteTime": {
     "end_time": "2019-11-24T22:38:50.679186Z",
     "start_time": "2019-11-24T22:38:50.478560Z"
    }
   },
   "outputs": [],
   "source": [
    "import numpy as np\n",
    "import matplotlib.pyplot as plt\n",
    "from unityagents import UnityEnvironment\n",
    "from models import ddpg, run_single_episode, DDPGAgent, plot_result, OUNoise\n",
    "from models.parameters import device, check_device"
   ]
  },
  {
   "cell_type": "code",
   "execution_count": 11,
   "metadata": {},
   "outputs": [
    {
     "name": "stdout",
     "output_type": "stream",
     "text": [
      "Using device: cuda:0\n"
     ]
    }
   ],
   "source": [
    "# Checkig if a GPU is avalilable\n",
    "check_device()"
   ]
  },
  {
   "cell_type": "markdown",
   "metadata": {},
   "source": [
    "Next, we will start the environment!  **_Before running the code cell below_**, change the `file_name` parameter to match the location of the Unity environment that you downloaded.\n",
    "\n",
    "- **Mac**: `\"path/to/Tennis.app\"`\n",
    "- **Windows** (x86): `\"path/to/Tennis_Windows_x86/Tennis.exe\"`\n",
    "- **Windows** (x86_64): `\"path/to/Tennis_Windows_x86_64/Tennis.exe\"`\n",
    "- **Linux** (x86): `\"path/to/Tennis_Linux/Tennis.x86\"`\n",
    "- **Linux** (x86_64): `\"path/to/Tennis_Linux/Tennis.x86_64\"`\n",
    "- **Linux** (x86, headless): `\"path/to/Tennis_Linux_NoVis/Tennis.x86\"`\n",
    "- **Linux** (x86_64, headless): `\"path/to/Tennis_Linux_NoVis/Tennis.x86_64\"`\n",
    "\n",
    "For instance, if you are using a Mac, then you downloaded `Tennis.app`.  If this file is in the same folder as the notebook, then the line below should appear as follows:\n",
    "```\n",
    "env = UnityEnvironment(file_name=\"Tennis.app\")\n",
    "```"
   ]
  },
  {
   "cell_type": "code",
   "execution_count": 3,
   "metadata": {
    "ExecuteTime": {
     "end_time": "2019-11-24T22:38:50.683130Z",
     "start_time": "2019-11-24T22:38:49.785Z"
    }
   },
   "outputs": [
    {
     "name": "stderr",
     "output_type": "stream",
     "text": [
      "INFO:unityagents:\n",
      "'Academy' started successfully!\n",
      "Unity Academy name: Academy\n",
      "        Number of Brains: 1\n",
      "        Number of External Brains : 1\n",
      "        Lesson number : 0\n",
      "        Reset Parameters :\n",
      "\t\t\n",
      "Unity brain name: TennisBrain\n",
      "        Number of Visual Observations (per agent): 0\n",
      "        Vector Observation space type: continuous\n",
      "        Vector Observation space size (per agent): 8\n",
      "        Number of stacked Vector Observation: 3\n",
      "        Vector Action space type: continuous\n",
      "        Vector Action space size (per agent): 2\n",
      "        Vector Action descriptions: , \n"
     ]
    }
   ],
   "source": [
    "env = UnityEnvironment(file_name=\"Tennis_Windows_x86_64/Tennis.exe\")"
   ]
  },
  {
   "cell_type": "markdown",
   "metadata": {},
   "source": [
    "Environments contain **_brains_** which are responsible for deciding the actions of their associated agents. Here we check for the first brain available, and set it as the default brain we will be controlling from Python."
   ]
  },
  {
   "cell_type": "code",
   "execution_count": 4,
   "metadata": {
    "ExecuteTime": {
     "end_time": "2019-11-24T22:38:50.684128Z",
     "start_time": "2019-11-24T22:38:50.528Z"
    }
   },
   "outputs": [],
   "source": [
    "# get the default brain\n",
    "brain_name = env.brain_names[0]\n",
    "brain = env.brains[brain_name]"
   ]
  },
  {
   "cell_type": "markdown",
   "metadata": {},
   "source": [
    "### Examine the State and Action Spaces\n",
    "\n",
    "The Tennis environment are configured as described below:\n",
    "\n",
    "- Set-up: Two-player game where agents control rackets to bounce ball over a net.\n",
    "- Goal: The agents must bounce ball between one another while not dropping or sending ball out of bounds.\n",
    "- Agents: The environment contains **two agent** with same Behavior Parameters.\n",
    "- Agent Reward Function (independent):\n",
    "  - **+0.1** To agent when hitting ball over net.\n",
    "  - **-0.1** To agent who let ball hit their ground, or hit ball out of bounds.\n",
    "- Behavior Parameters:\n",
    "  - Vector Observation space: **8 variables** corresponding to position and velocity of ball and racket.\n",
    "  - Vector Action space: **(Continuous) Size of 2**, corresponding to movement toward net or away from net, and jumping.\n",
    "- Benchmark Mean Reward: **2.5**\n",
    "\n",
    "Source: https://github.com/Unity-Technologies/ml-agents/blob/master/docs/Learning-Environment-Examples.md#tennis\n",
    "\n",
    "\n",
    "Run the code cell below to print some information about the selected environment."
   ]
  },
  {
   "cell_type": "code",
   "execution_count": 15,
   "metadata": {
    "ExecuteTime": {
     "end_time": "2019-11-24T22:38:51.651659Z",
     "start_time": "2019-11-24T22:38:51.566873Z"
    }
   },
   "outputs": [
    {
     "name": "stdout",
     "output_type": "stream",
     "text": [
      "Number of agents: 2\n",
      "\n",
      "Size of each action: 2\n",
      "\n",
      "There are 2 agents. Each observes a state with length: 24\n",
      "\n",
      "The state for the first agent looks like: \n",
      "[ 0.          0.          0.          0.          0.          0.\n",
      "  0.          0.          0.          0.          0.          0.\n",
      "  0.          0.          0.          0.         -6.5099144  -1.5\n",
      " -0.          0.         -6.65305614  5.85873604 -0.          0.        ]\n"
     ]
    }
   ],
   "source": [
    "# reset the environment\n",
    "env_info = env.reset(train_mode=True)[brain_name]\n",
    "\n",
    "# number of agents \n",
    "num_agents = len(env_info.agents)\n",
    "print(f'Number of agents: {num_agents}')\n",
    "\n",
    "# size of each action\n",
    "action_size = brain.vector_action_space_size\n",
    "print(f'\\nSize of each action: {action_size}')\n",
    "\n",
    "# examine the state space \n",
    "states = env_info.vector_observations\n",
    "state_size = states.shape[1]\n",
    "print(f'\\nThere are {states.shape[0]} agents. Each observes a state with length: {state_size}')\n",
    "print(f'\\nThe state for the first agent looks like: \\n{states[0]}')"
   ]
  },
  {
   "cell_type": "markdown",
   "metadata": {},
   "source": [
    "### Take Random Actions in the Environment\n",
    "\n",
    "In the next code cell, you will learn how to use the Python API to control the agents and receive feedback from the environment.\n",
    "\n",
    "Once this cell is executed, you will watch the agents' performance, if they select actions at random with each time step.  A window should pop up that allows you to observe the agents."
   ]
  },
  {
   "cell_type": "code",
   "execution_count": 16,
   "metadata": {},
   "outputs": [
    {
     "name": "stdout",
     "output_type": "stream",
     "text": [
      "Score (max over agents) from episode 1: 0.000 \t Each agent scores: [-0.01  0.  ]\n",
      "Score (max over agents) from episode 2: 0.000 \t Each agent scores: [-0.01  0.  ]\n",
      "Score (max over agents) from episode 3: 0.100 \t Each agent scores: [ 0.1  -0.01]\n",
      "Score (max over agents) from episode 4: 0.000 \t Each agent scores: [ 0.   -0.01]\n",
      "Score (max over agents) from episode 5: 0.000 \t Each agent scores: [ 0.   -0.01]\n"
     ]
    }
   ],
   "source": [
    "for i in range(1, 6): \n",
    "    scores = run_single_episode(env, brain_name, train_mode=False)\n",
    "\n",
    "    print(f'Score (max over agents) from episode {i}: {np.max(scores):.3f} \\t Each agent scores: {scores}')"
   ]
  },
  {
   "cell_type": "markdown",
   "metadata": {},
   "source": [
    "### Training the agent\n",
    "\n",
    "Let's start training an agent in this environment.\n",
    "\n",
    "The environment is considered solved, when the average (over 100 episodes and of all agents) scores is at least **+0.5**. \n",
    "\n",
    "The function `ddpg` from `model` package is the function that will train the Deep Deterministic Policy Gradient (DDPG) model from each episode until it achieves an moving average of 0.5 in scores for a windows of 100 episodes.\n",
    "\n",
    "> The Deep Deterministic Policy Gradient (DDPG) is an Actor-Critic model architecture that approximate a DQN network (actor network), but can be used for continuous action space (like the Tennis problem). The critic network helps to reduce the variance while keeps the bias to a minimum value.\n",
    "\n",
    "The chosen architecture uses an experience replay to breaks harmful correlations between episodes and to repeat rare episodes.\n",
    "\n",
    "- Chosen parameters:\n",
    "\n",
    "```python\n",
    "BUFFER_SIZE = int(1e5)      # replay buffer size\n",
    "BATCH_SIZE = 128            # minibatch size\n",
    "GAMMA = 0.99                # discount factor\n",
    "TAU = 2e-3                  # for soft update of target parameters\n",
    "LR_ACTOR = 5e-4             # learning rate of the actor\n",
    "LR_CRITIC = 2e-4            # learning rate of the critic\n",
    "WEIGHT_DECAY = 0            # L2 weight decay\n",
    "\n",
    "LEARN_STEPS = 1             # Lear evey N steps\n",
    "N_UPDATES = 1               # Number of updates that will be realize in learn step\n",
    "```\n",
    "\n",
    "After some attempts, the learning rate for critic and actor was tunning to `5e-4` and `2e-4`. During the training, I faced problems like slow learning and fast learning but followed by forgetting (decreasing the score).\n",
    "\n",
    "The learning steps (`LEARN_STEPS`) and the number of updates (`N_UPDATES`) parameters were reduced to only 1 because, in the first episodes, the number of steps in each episode was really small (most of the cases just one step).\n",
    "\n",
    "The `TAU` parameter (used to inform how much the target network will be updated) was increased as a try to speed up the training.\n",
    "\n",
    "- Noise\n",
    "\n",
    "A noise (Ornstein-Uhlenbeck process) was added to the action output (actor network) to allow the training to explore more possibilities and avoid stay stuck at some point."
   ]
  },
  {
   "cell_type": "code",
   "execution_count": 26,
   "metadata": {},
   "outputs": [
    {
     "data": {
      "image/png": "[encoded data removed]",
      "text/plain": [
       "<Figure size 432x288 with 1 Axes>"
      ]
     },
     "metadata": {
      "needs_background": "light"
     },
     "output_type": "display_data"
    }
   ],
   "source": [
    "# Ornstein-Uhlenbeck noise plot for both agenst\n",
    "noise = OUNoise(action_size, scale=1.0, sigma=.1)\n",
    "plt.plot([noise.noise() * 0.9995**i for i in range(941)])\n",
    "plt.legend(['Noise for Agent 1', 'Noise for Agent 2']);\n",
    "plt.title('Example of Ornstein-Uhlenbeck noise');"
   ]
  },
  {
   "cell_type": "code",
   "execution_count": 8,
   "metadata": {
    "scrolled": false
   },
   "outputs": [
    {
     "name": "stdout",
     "output_type": "stream",
     "text": [
      "- Actor Summary (both local and target): \n",
      "----------------------------------------------------------------\n",
      "        Layer (type)               Output Shape         Param #\n",
      "================================================================\n",
      "            Linear-1                  [-1, 400]          10,000\n",
      "       BatchNorm1d-2                  [-1, 400]             800\n",
      "            Linear-3                  [-1, 300]         120,300\n",
      "            Linear-4                    [-1, 2]             602\n",
      "================================================================\n",
      "Total params: 131,702\n",
      "Trainable params: 131,702\n",
      "Non-trainable params: 0\n",
      "----------------------------------------------------------------\n",
      "Input size (MB): 0.00\n",
      "Forward/backward pass size (MB): 0.01\n",
      "Params size (MB): 0.50\n",
      "Estimated Total Size (MB): 0.51\n",
      "----------------------------------------------------------------\n",
      "- Critic Summary (both local and target): \n",
      "----------------------------------------------------------------\n",
      "        Layer (type)               Output Shape         Param #\n",
      "================================================================\n",
      "            Linear-1                  [-1, 400]          10,000\n",
      "       BatchNorm1d-2                  [-1, 400]             800\n",
      "            Linear-3                  [-1, 300]         120,300\n",
      "            Linear-4                    [-1, 2]             602\n",
      "================================================================\n",
      "Total params: 131,702\n",
      "Trainable params: 131,702\n",
      "Non-trainable params: 0\n",
      "----------------------------------------------------------------\n",
      "Input size (MB): 0.00\n",
      "Forward/backward pass size (MB): 0.01\n",
      "Params size (MB): 0.50\n",
      "Estimated Total Size (MB): 0.51\n",
      "----------------------------------------------------------------\n",
      "*** Starting Training ***\n"
     ]
    },
    {
     "data": {
      "application/vnd.jupyter.widget-view+json": {
       "model_id": "d0203bb6c3274b78ae9c76032b7a7ad1",
       "version_major": 2,
       "version_minor": 0
      },
      "text/plain": [
       "HBox(children=(IntProgress(value=0, max=5000), HTML(value='')))"
      ]
     },
     "metadata": {},
     "output_type": "display_data"
    },
    {
     "name": "stdout",
     "output_type": "stream",
     "text": [
      "Episode 100\tAverage Score: 0.00200\tLast Episode Score: 0.00000\tSaved!\n",
      "Episode 200\tAverage Score: 0.01250\tLast Episode Score: 0.10000\tSaved!\n",
      "Episode 300\tAverage Score: 0.03270\tLast Episode Score: 0.00000\tSaved!\n",
      "Episode 400\tAverage Score: 0.01550\tLast Episode Score: 0.10000\tSaved!\n",
      "Episode 500\tAverage Score: 0.05570\tLast Episode Score: 0.00000\tSaved!\n",
      "Episode 600\tAverage Score: 0.08730\tLast Episode Score: 0.10000\tSaved!\n",
      "Episode 700\tAverage Score: 0.13090\tLast Episode Score: 0.10000\tSaved!\n",
      "Episode 800\tAverage Score: 0.31270\tLast Episode Score: 0.30000\tSaved!\n",
      "Episode 900\tAverage Score: 0.31190\tLast Episode Score: 0.20000\tSaved!\n",
      "Episode 941\tAverage Score: 0.50190\tLast Episode Score: 1.40000\tSaved!\n"
     ]
    }
   ],
   "source": [
    "# Let's start training the agent\n",
    "scores, agent = ddpg(env)"
   ]
  },
  {
   "cell_type": "markdown",
   "metadata": {},
   "source": [
    "In episode **941** (and after 30:01 minutes training in a local machine using GPU) the training was interrupted because the problem was solved."
   ]
  },
  {
   "cell_type": "code",
   "execution_count": 11,
   "metadata": {},
   "outputs": [],
   "source": [
    "# Saving the results scores\n",
    "np.savetxt(\"results/scores.csv\", scores, delimiter=\",\")"
   ]
  },
  {
   "cell_type": "markdown",
   "metadata": {},
   "source": [
    "### Loading the traine episodes scores\n",
    "\n",
    "After training the agent, let's load the scores to see the performance of the agent during the training."
   ]
  },
  {
   "cell_type": "code",
   "execution_count": 14,
   "metadata": {},
   "outputs": [],
   "source": [
    "# Load the result scores\n",
    "scores = np.loadtxt(\"results/scores.csv\", delimiter=\",\")"
   ]
  },
  {
   "cell_type": "code",
   "execution_count": 35,
   "metadata": {},
   "outputs": [
    {
     "data": {
      "image/png": "[encoded data removed]",
      "text/plain": [
       "<Figure size 720x504 with 1 Axes>"
      ]
     },
     "metadata": {
      "needs_background": "light"
     },
     "output_type": "display_data"
    }
   ],
   "source": [
    "# Plot the result\n",
    "plot_result(scores)"
   ]
  },
  {
   "cell_type": "markdown",
   "metadata": {},
   "source": [
    "###  Testing the trained model\n",
    "\n",
    "Let's load the saved agent and run a single episode to see how trained model behaves."
   ]
  },
  {
   "cell_type": "code",
   "execution_count": 27,
   "metadata": {},
   "outputs": [],
   "source": [
    "# Load the saved trained agent\n",
    "agent = DDPGAgent.load(env)"
   ]
  },
  {
   "cell_type": "code",
   "execution_count": 31,
   "metadata": {},
   "outputs": [
    {
     "name": "stdout",
     "output_type": "stream",
     "text": [
      "Total score (max over agents) this episode: 2.600 \t Each agent scores: [2.60000004 2.60000004]\n"
     ]
    }
   ],
   "source": [
    "single_episode_scores = run_single_episode(env, brain_name, agent, train_mode=False)\n",
    "\n",
    "print(f'Total score (max over agents) this episode: {np.max(single_episode_scores):.3f} \\t Each agent scores: {single_episode_scores}')"
   ]
  },
  {
   "cell_type": "markdown",
   "metadata": {},
   "source": [
    "### Interesting observation\n",
    "\n",
    "For those who a familiar with tennis, most of the strokes executed by the agent were *slices*. If the agent were a robot and it was playing against a human, would be difficult to play because the *slice* is one of the most difficult strokes to counter because of the effect that the ball gain.\n",
    "\n",
    "<img src=\"https://www.wikihow.com/images/thumb/6/62/Slice-Backhand-in-Tennis-Step-4.jpg/aid328357-v4-728px-Slice-Backhand-in-Tennis-Step-4.jpg\" width=\"400\"> \n",
    "Image source: https://www.wikihow.com/Slice-Backhand-in-Tennis\n",
    "\n",
    "But I'm just thinking aloud, the environment didn't consider this because it would probably need to consider some factors like the friction of the air in the ball surface to make some effects.\n",
    "\n",
    "<img src=\"https://encrypted-tbn0.gstatic.com/images?q=tbn:ANd9GcSC9pPdc11HlzZwtbmiHOUX_jtkQFEaRDdKcuIZ8mA56cauhMwNUA&s\" width=\"400\"> \n",
    "Image source: http://ffden-2.phys.uaf.edu/webproj/211_fall_2014/Max_Hesser-Knoll/max_hesserknoll/Slide3.htm"
   ]
  },
  {
   "cell_type": "markdown",
   "metadata": {},
   "source": [
    "### Closing the Environment\n",
    "\n",
    "When finished, you can close the environment."
   ]
  },
  {
   "cell_type": "code",
   "execution_count": 32,
   "metadata": {},
   "outputs": [],
   "source": [
    "env.close()"
   ]
  },
  {
   "cell_type": "markdown",
   "metadata": {},
   "source": [
    "### Ideas for Future Work\n",
    "\n",
    "In the future, a Prioritized Experience Replay can be used to improve the performance and decrease the variation per episode.\n",
    "\n",
    "Another tentative to improve the result is to try to use the Proximal Policy Optimization (PPO) that, according to *OpenAI*, obtained a really good performance on some of their projects. https://openai.com/blog/openai-baselines-ppo/"
   ]
  }
 ],
 "metadata": {
  "kernelspec": {
   "display_name": "Python 3",
   "language": "python",
   "name": "python3"
  },
  "language_info": {
   "codemirror_mode": {
    "name": "ipython",
    "version": 3
   },
   "file_extension": ".py",
   "mimetype": "text/x-python",
   "name": "python",
   "nbconvert_exporter": "python",
   "pygments_lexer": "ipython3",
   "version": "3.6.7"
  },
  "toc": {
   "base_numbering": 1,
   "nav_menu": {},
   "number_sections": true,
   "sideBar": true,
   "skip_h1_title": false,
   "title_cell": "Table of Contents",
   "title_sidebar": "Contents",
   "toc_cell": false,
   "toc_position": {},
   "toc_section_display": true,
   "toc_window_display": false
  },
  "varInspector": {
   "cols": {
    "lenName": 16,
    "lenType": 16,
    "lenVar": 40
   },
   "kernels_config": {
    "python": {
     "delete_cmd_postfix": "",
     "delete_cmd_prefix": "del ",
     "library": "var_list.py",
     "varRefreshCmd": "print(var_dic_list())"
    },
    "r": {
     "delete_cmd_postfix": ") ",
     "delete_cmd_prefix": "rm(",
     "library": "var_list.r",
     "varRefreshCmd": "cat(var_dic_list()) "
    }
   },
   "types_to_exclude": [
    "module",
    "function",
    "builtin_function_or_method",
    "instance",
    "_Feature"
   ],
   "window_display": false
  }
 },
 "nbformat": 4,
 "nbformat_minor": 2
}
